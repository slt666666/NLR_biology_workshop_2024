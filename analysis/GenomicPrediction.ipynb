{
  "nbformat": 4,
  "nbformat_minor": 0,
  "metadata": {
    "colab": {
      "provenance": [],
      "toc_visible": true
    },
    "kernelspec": {
      "name": "python3",
      "display_name": "Python 3"
    },
    "gpuClass": "standard"
  },
  "cells": [
    {
      "cell_type": "markdown",
      "metadata": {
        "id": "31NfnQcvPDoY"
      },
      "source": [
        "# Genomic Prediction - 実習編 -\n",
        "\n",
        "本実習では、ゲノミック予測を実際のイネNAM集団のデータを用いて体験します。\n",
        "\n",
        "ゲノミック予測モデルを用いることで、どの様なことが出来るのかを実習します。"
      ]
    },
    {
      "cell_type": "markdown",
      "source": [
        "## 本ノートブックの内容\n",
        "\n",
        "* 実データを用いてゲノミック予測モデルを構築する\n",
        "\n",
        "  * 例としてイネのNAM集団、籾数を形質として扱う。\n",
        "\n",
        "* ゲノミック予測モデルの活用\n",
        "  * 籾数を増加させる遺伝子型を探索する。\n",
        "  * 籾数を増加させるために最適な交配系統の組み合わせを探索する。"
      ],
      "metadata": {
        "id": "wZpUAKrgmHnm"
      }
    },
    {
      "cell_type": "markdown",
      "source": [
        "# はじめに"
      ],
      "metadata": {
        "id": "pYgp_cqzl-pM"
      }
    },
    {
      "cell_type": "markdown",
      "source": [
        "## Google Colaboratoryの使い方\n",
        "\n",
        "本実習では、**Google Colaboratory**（以下、**Google Colab**）と呼ばれるオンラインサービスを使って、ゲノミック予測の体験をしていきます。\n",
        "\n",
        "Google ColabはGoogle社が提供しているサービスで、Googleアカウントさえあれば、オンライン上でPythonやRのプログラミングをおこなえます。無料でそこそこの計算資源を使えるため、実際の研究現場でも利用されています。\n",
        "\n",
        "細かい使い方は今回は扱いませんが、興味のある方は調べてみてください。\n",
        "\n",
        "### コードの動かし方\n",
        "\n",
        "Google Colabには**コードセル**と呼ばれるプログラムを書くスペースがあります。コードセルを選択すると左に表示される「▶︎マーク」をクリックすると、そのコードセルに書かれたプログラムを実行できます。\n",
        "\n",
        "下のコードのx,y,zの値をいろいろ書き換えて動かしてみてください。"
      ],
      "metadata": {
        "id": "S0rZdKCqWq7W"
      }
    },
    {
      "cell_type": "code",
      "source": [
        "## --- 入力値 ---\n",
        "x = 11  # 変数x\n",
        "y = 22  # 変数y\n",
        "z = 33  # 変数z\n",
        "##------------------\n",
        "\n",
        "## 数値計算\n",
        "print(x - y + z)"
      ],
      "metadata": {
        "id": "h4TxAKndXN8E"
      },
      "execution_count": null,
      "outputs": []
    },
    {
      "cell_type": "markdown",
      "source": [
        "本実習ではこちらで用意したプログラムを動かしてもらう形になるので、プログラミング等をする必要はありません。コードの動かし方が分かればOKです。\n",
        "\n",
        "それでは実習を始めていきます。"
      ],
      "metadata": {
        "id": "7voJFz2BXcFW"
      }
    },
    {
      "cell_type": "markdown",
      "source": [
        "## Mut-Map, QTL-seq, GWASなどの解析\n",
        "\n",
        "昨日の講義で、形質に関連している遺伝的な変異を検出するQTL-seqを扱いました。\n",
        "\n",
        "GWASやQTL-seq、Mut-mapなどの手法は**形質に関連しているQTLや遺伝的な変異の検出**にフォーカスした手法になります。\n",
        "\n",
        "そのため、これらの手法を適用し、有用な遺伝的変異を見つけることで、**Marker assisted selection (MAS)** が行えるようになります。\n",
        "\n",
        "様々な作物の収量や病害抵抗性などの様々な形質がマーカー選抜を通じて向上しています。\n",
        "\n",
        "<img src=\"https://github.com/slt666666/FAO_lecture/blob/main/FAO_2024/GP_1.png?raw=true\" alt=\"title\" height=\"150px\">\n",
        "\n",
        "しかし、多くの農業形質は単独の遺伝子(マーカー)によってコントロールされているわけではなく、多数の遺伝子によってコントロールされていることが多いです。\n",
        "\n",
        "また、集団の形質分離状況などに基づくMut-mapやQTL-seq、GWAS等の手法では、多数の遺伝子が関与していた場合、それぞれの遺伝子の効果を推定することが難しい場合が多いです。\n",
        "\n",
        "<img src=\"https://github.com/slt666666/FAO_lecture/blob/main/FAO_2024/GP_2.png?raw=true\" alt=\"title\" height=\"300px\">\n",
        "\n",
        "もし、各遺伝的変異の影響力を正しく推定出来た場合、より効率的に育種へマーカーが利用できます。\n",
        "\n",
        "<img src=\"https://github.com/slt666666/FAO_lecture/blob/main/FAO_2024/GP_3.png?raw=true\" alt=\"title\" height=\"140px\">\n",
        "\n",
        "**ゲノミック予測モデル**は、遺伝子型から形質情報を予測するモデルであり、モデル構築の仕方によっては、各遺伝的変異の形質に対する影響力を推定することが出来る手法の１つになります。\n",
        "\n",
        "本実習では、ゲノミック予測モデルの基礎をおさらいしつつ、構築方法や予測モデルを用いてどの様なことが出来るのかを実習してもらいます。"
      ],
      "metadata": {
        "id": "aifrycn-qcez"
      }
    },
    {
      "cell_type": "markdown",
      "source": [
        "# ゲノミック予測モデルについて\n",
        "\n",
        "ゲノミック予測モデルは形質値を遺伝子型情報から予測モデルになります。\n",
        "\n",
        "```\n",
        "通常ゲノミック予測では\"育種価\"を予測するモデルを指しますが、\n",
        "育種価という概念は作物育種においてはそれほど重要でないと考えているので、\n",
        "直接形質値を予測しに行きます。\n",
        "```\n",
        "\n",
        "通常、ここでの遺伝子型情報とはSNPの遺伝子型を扱う場合が多いです。\n",
        "\n",
        "そのため、本実習で扱うゲノミック予測モデルは、SNPの遺伝子型情報を基に形質値を予測するモデルを指します。\n",
        "\n",
        "<img src=\"https://github.com/slt666666/FAO_lecture/blob/main/genomic_prediction.png?raw=true\" alt=\"colab\" height=\"300px\">\n",
        "\n",
        "ゲノミック予測モデルを構築するためには、遺伝子型と形質値の関係性を捉える必要があります。\n",
        "\n",
        "そのため、モデルの構築には様々な遺伝子型と対応する形質データが必要です。\n",
        "\n",
        "<img src=\"https://github.com/slt666666/FAO_lecture/blob/main/FAO_2024/GP_19.png?raw=true\" alt=\"title\" height=\"250px\">\n",
        "\n",
        "大規模な遺伝子型と形質データを用意し、統計モデルを適用することで、遺伝子型と形質データの関係性を説明可能な統計モデルを構築します。\n",
        "\n",
        "モデルの構築には、基本的には線形モデルが良く用いられ、必要に応じて(深層学習等で用いられる)複雑な統計モデルを使用する場合もありますが、よほど大規模なデータを準備できなければ、効果は薄い(むしろ予測精度が下がる)場合が多いです。\n",
        "\n",
        "<img src=\"https://github.com/slt666666/FAO_lecture/blob/main/FAO_2024/GP_4.png?raw=true\" alt=\"title\" height=\"170px\">\n",
        "\n",
        "それでは実際に予測モデルを構築してみましょう。"
      ],
      "metadata": {
        "id": "F4tPUz-Y9TgH"
      }
    },
    {
      "cell_type": "markdown",
      "source": [
        "# ゲノミック予測モデルの構築\n",
        "ここからは実際にゲノミック予測モデルの構築を行っていきます。\n",
        "\n",
        "今回は、イネの籾数をSNPの遺伝子型から予測するモデルを構築します。\n",
        "\n",
        "<img src=\"https://github.com/slt666666/FAO_lecture/blob/main/FAO_2024/GP_21.png?raw=true\" alt=\"title\" height=\"150px\">\n",
        "\n"
      ],
      "metadata": {
        "id": "Xt6EApFB9zM2"
      }
    },
    {
      "cell_type": "markdown",
      "source": [
        "## **材料の用意: 遺伝的に多様な集団**\n",
        "\n",
        "まず初めに、先述した通り、遺伝子型と形質の関係性を捉えるためには、遺伝的に多様な集団のデータを準備する必要があります。\n",
        "\n",
        "コアコレクション等の多数の系統をベースにしても良いですが、より遺伝子型と形質の関係性を理解するために、**デザインされた育種集団**が材料として良く用いられます。\n",
        "\n",
        "デザインされた育種集団とは、**RIL集団やNAM集団、MAGIC集団**等を指します。\n",
        "\n",
        "これらの集団は\n",
        "\n",
        "* 高い遺伝的多様性\n",
        "* 固定系統から成るので、雑種強勢やヘテロ接合の影響を無視できる\n",
        "* 固定系統から成るので、同じ遺伝子型の複製が容易\n",
        "\n",
        "といった特徴から、予測モデルの構築や育種材料として扱いやすい材料となります。\n",
        "\n",
        "(雑種強勢なども含めて予測したい場合はF1系統なども混ぜる必要があります。)\n",
        "\n",
        "\n",
        "本実習では、イネのNAM集団のデータを用いて実習を行います。\n",
        "\n",
        "NAM(Nested Association Mapping)集団は複数のRecombinant inbred line(RIL)集団から成る集団です.\n",
        "\n",
        "ある系統を共通親として、共通親と多様な系統からRIL集団を構築したものを総じて、NAM集団と呼びます。\n",
        "\n",
        "<img src=\"https://github.com/slt666666/FAO_lecture/blob/main/FAO_2024/GP_5.png?raw=true\" alt=\"title\" height=\"300px\">\n",
        "\n",
        "岩手生工研で栽培された、イネ「ひとめぼれ」を共通親として構築したNAM集団のデータを用いて予測モデルを構築していきます。\n",
        "\n",
        "下のコマンドを動かすとデータがダウンロードされます。\n",
        "\n"
      ],
      "metadata": {
        "id": "tXk9NBkAcSp0"
      }
    },
    {
      "cell_type": "code",
      "source": [
        "%%bash\n",
        "wget -q -O genotype.csv https://raw.githubusercontent.com/slt666666/FAO_lecture/main/FAO_2024/data/genotype.csv\n",
        "wget -q -O phenotype.csv https://raw.githubusercontent.com/slt666666/FAO_lecture/main/FAO_2024/data/phenotype.csv\n",
        "wget -q -O modules.py https://raw.githubusercontent.com/slt666666/FAO_lecture/main/FAO_2024/data/modules2.py"
      ],
      "metadata": {
        "id": "jIniocaQhMrh"
      },
      "execution_count": null,
      "outputs": []
    },
    {
      "cell_type": "markdown",
      "source": [
        "ダウンロードを終えると、データの確認が可能です。\n",
        "\n",
        "形質データは`phenotype.csv`、遺伝子型データは`genotype.csv`になります。"
      ],
      "metadata": {
        "id": "nQ1Wmzn4_Maj"
      }
    },
    {
      "cell_type": "markdown",
      "source": [
        "### 形質データ\n",
        "\n",
        "今回扱うNAM集団は**747系統**あり、各系統を栽培して得られた**籾数(5個体の平均)**のデータがある。\n",
        "\n",
        "下記のコードを動かすと、Pythonでこのデータを読み込んで表示させることが出来ます。\n",
        "\n",
        "(現段階で未公開のデータなので、名前はNAM_XXXとなっていますが、複数の系統由来のRIL集団が混ざっています。)"
      ],
      "metadata": {
        "id": "Xn0bP0chhYKz"
      }
    },
    {
      "cell_type": "code",
      "source": [
        "import pandas as pd\n",
        "phenotype = pd.read_csv(\"phenotype.csv\")\n",
        "phenotype"
      ],
      "metadata": {
        "id": "t9DpBjdqhmdd"
      },
      "execution_count": null,
      "outputs": []
    },
    {
      "cell_type": "markdown",
      "source": [
        "### 遺伝子型データ\n",
        "\n",
        "今回はNAM集団のSNPの遺伝子型を使用します。\n",
        "\n",
        "既にこれまでの講義で扱った通り、遺伝子型データを得るためには、シーケンスを行い、アラインメントやSNP callingなどを実施する必要があります。\n",
        "\n",
        "(SNP検出の流れの一例)\n",
        "\n",
        "<img src=\"https://github.com/slt666666/FAO_lecture/blob/main/FAO_2024/Basic_11.png?raw=true\" alt=\"title\" height=\"250px\">\n",
        "\n",
        "今回はNAM集団の各系統毎にシーケンスを行い、SNPの遺伝子型を同定する必要があります。\n",
        "\n",
        "<img src=\"https://github.com/slt666666/FAO_lecture/blob/main/FAO_2024/GP_6.png?raw=true\" alt=\"title\" height=\"300px\">\n",
        "\n",
        "本実習では、この部分(シーケンス等)はやったものとし、こちらで表データに変換した遺伝子型データを直接使用します。\n",
        "\n",
        "SNPの遺伝子型は統計モデルで扱いやすいように数値に変換しました。\n",
        "\n",
        "- 変異がホモ接合型 = 2\n",
        "- ヘテロ接合型 = 1\n",
        "- 変異無し(ひとめぼれの遺伝子型) = 0\n",
        "\n",
        "<img src=\"https://github.com/slt666666/FAO_lecture/blob/main/FAO_2024/GP_7.png?raw=true\" alt=\"title\" height=\"250px\">\n",
        "\n",
        "下のコードで遺伝子型データをPythonで読み込んで確認することが出来ます。"
      ],
      "metadata": {
        "id": "98HviEWVln1D"
      }
    },
    {
      "cell_type": "code",
      "source": [
        "import pandas as pd\n",
        "genotype = pd.read_csv(\"genotype.csv\")\n",
        "genotype"
      ],
      "metadata": {
        "id": "iJnr7zlQln-z"
      },
      "execution_count": null,
      "outputs": []
    },
    {
      "cell_type": "markdown",
      "source": [
        "これで、747系統の遺伝子型データと形質値のデータが手に入りました。\n",
        "\n",
        "次は実際に、このデータから遺伝子型と形質値の関係を説明できるモデルを構築していきます。\n",
        "\n",
        "\n",
        "## **予測モデルの構築**\n",
        "\n",
        "手に入れた遺伝子型と形質値のデータから、その関係性を説明する統計モデルを構築します。\n",
        "\n",
        "ex) 簡単な例\n",
        "\n",
        "<img src=\"https://github.com/slt666666/FAO_lecture/blob/main/FAO_2024/GP_8.png?raw=true\" alt=\"title\" height=\"300px\">\n",
        "\n",
        "近年、計算資源や統計解析手法の発展もあり、様々な統計モデルを簡単に適用することが出来る時代になっています。\n",
        "\n",
        "そのため、遺伝子間相互作用の考慮や、環境要因の考慮など、目的に応じて適切なモデルを選択し、予測モデルの構築を試みることが出来ます。\n",
        "\n",
        "(※今回は複雑なモデルは扱いませんが)\n",
        "\n",
        "<br>\n",
        "\n",
        "本実習では、シンプルな線形モデルを使用します。\n",
        "\n",
        "<img src=\"https://github.com/slt666666/FAO_lecture/blob/main/FAO_2024/GP_9.png?raw=true\" alt=\"title\" height=\"70px\">\n",
        "\n",
        "殆どの線形モデルはPythonの [scikit-learn](https://scikit-learn.org/stable/) というライブラリ(プログラムがまとめられたもの)を使用することで実装可能です。\n",
        "\n",
        "```\n",
        "※ 本実習では時間の都合上、統計については詳しく説明しませんが、\n",
        "今はオンライン教材が豊富なので必要に応じて学習してみてください。\n",
        "例) https://pll.harvard.edu/subject/data-science\n",
        "```\n",
        "\n",
        "まずは単純な重回帰分析を行ってみます。\n",
        "\n"
      ],
      "metadata": {
        "id": "HddeA7RAvlnI"
      }
    },
    {
      "cell_type": "code",
      "source": [
        "# 線形回帰\n",
        "from sklearn.linear_model import LinearRegression\n",
        "\n",
        "model = LinearRegression()\n",
        "model = model.fit(genotype.iloc[:, 2:].T, phenotype[\"Grain_number\"]) # 遺伝子型情報全体と、籾数の形質値を使用してモデル構築\n",
        "equation = \"Grain number = \"\n",
        "for i, j in enumerate(model.coef_):\n",
        "    equation += \"SNP{}×{} + \".format(str(i+1), str(j))\n",
        "equation += str(model.intercept_)\n",
        "equation"
      ],
      "metadata": {
        "id": "D9p42XRXqB10"
      },
      "execution_count": null,
      "outputs": []
    },
    {
      "cell_type": "markdown",
      "source": [
        "ということで、得られたデータからPythonで重回帰分析をした結果、予測式が出来ました。\n",
        "\n",
        "## **予測精度の確認**\n",
        "\n",
        "ただし、すべてのデータを基に予測式を構築したので、このモデルが良いモデルなのかダメなモデルなのか判断できません。\n",
        "\n",
        "<img src=\"https://github.com/slt666666/FAO_lecture/blob/main/FAO_2024/GP_10.png?raw=true\" alt=\"title\" height=\"120px\">\n",
        "\n",
        "構築したモデルが**他の集団や新しい系統**に対しても上手く予測してくれるのかどうか確認する方法が重要になります。\n",
        "\n",
        "そこで、通常はモデルの予測精度を簡易的に確認する方法として、データセットを分割して、トレーニングデータとテストデータに分ける方法が用いられます。\n",
        "\n",
        "### **トレーニングデータ・テストデータへの分割**\n",
        "\n",
        "データを分割してモデルの精度を検証する方法は、機械学習などのモデル構築の際によく実施されます。\n",
        "\n",
        "ゲノミック予測モデルを構築する前に、まず得られたデータセットをトレーニングデータとテストデータに分けておきます。\n",
        "\n",
        "1. まず、トレーニングデータに基づいて予測モデルを構築します。\n",
        "\n",
        "1. 構築したモデルの精度を確認するために、残りのテストデータを使用します。\n",
        "\n",
        "<img src=\"https://github.com/slt666666/FAO_lecture/blob/main/FAO_2024/GP_11.png?raw=true\" alt=\"title\" height=\"320px\">\n",
        "\n",
        "今回は大体全体の80%のデータがトレーニングデータ、20％のデータがテストデータになるように分割します。\n",
        "\n",
        "NAM集団が747系統あるので、予測モデルを597系統のデータから構築し、\n",
        "\n",
        "残りの150系統を使用して構築したモデルの精度を確認する、という形です。\n",
        "\n",
        "それでは実際にデータを分割して精度を確認してみましょう。"
      ],
      "metadata": {
        "id": "uQZcjW9VqCGi"
      }
    },
    {
      "cell_type": "markdown",
      "source": [
        "### **1. データの分割**\n",
        "\n",
        "得られたデータをトレーニングデータとテストデータに分割します。\n",
        "\n",
        "<img src=\"https://github.com/slt666666/FAO_lecture/blob/main/FAO_2024/GP_14.png?raw=true\" alt=\"title\" height=\"300px\">\n",
        "\n",
        "データを分割する際には、形質値の分布が大きく異ならない様に分割します。\n",
        "\n",
        "(トレーニングデータは小さい個体ばかり、テストデータは大きい個体ばかり、みたいな状況を避ける。)\n",
        "\n",
        "<img src=\"https://github.com/slt666666/FAO_lecture/blob/main/FAO_2024/GP_22.png?raw=true\" alt=\"title\" height=\"350px\">\n",
        "\n",
        "[scikit-learn](https://scikit-learn.org/stable/) ライブラリは、形質の分布が概ね一致する様にデータを分割するプログラムも含んでいるので、これを使用します。"
      ],
      "metadata": {
        "id": "oaq6rNW2kicm"
      }
    },
    {
      "cell_type": "code",
      "source": [
        "from sklearn.model_selection import train_test_split\n",
        "import matplotlib.pyplot as plt\n",
        "\n",
        "X_train, X_test, y_train, y_test = train_test_split(genotype.iloc[:, 2:].T, phenotype, test_size=0.2, random_state=1024)\n",
        "plt.figure(figsize=[4,4])\n",
        "plt.hist(y_train.Grain_number, label=\"Training data\")\n",
        "plt.hist(y_test.Grain_number, label=\"Test data\")\n",
        "plt.xlabel(\"Grain number\"); plt.ylabel(\"Lines\"); plt.legend(); plt.show()"
      ],
      "metadata": {
        "id": "C7C4En3WwByK"
      },
      "execution_count": null,
      "outputs": []
    },
    {
      "cell_type": "code",
      "source": [
        "# トレーニングデータの確認\n",
        "y_train"
      ],
      "metadata": {
        "id": "Qnk-yfJPXhut"
      },
      "execution_count": null,
      "outputs": []
    },
    {
      "cell_type": "markdown",
      "source": [
        "ということで、形質値の分布が概ね似た形で、トレーニングデータとテストデータに分割できました。\n",
        "\n",
        "まずはトレーニングデータを用いて予測モデルを構築してみます。"
      ],
      "metadata": {
        "id": "fOT0l9VdXo1F"
      }
    },
    {
      "cell_type": "markdown",
      "source": [
        "### **2. トレーニングデータから予測モデルを構築**\n",
        "\n",
        "さきほどやったのと同じように、予測モデルを構築します。\n",
        "\n",
        "<img src=\"https://github.com/slt666666/FAO_lecture/blob/main/FAO_2024/GP_15.png?raw=true\" alt=\"title\" height=\"300px\">\n",
        "\n",
        "\n",
        "[scikit-learn](https://scikit-learn.org/stable/)ライブラリを使用して、単純な重回帰分析でモデルを構築してみます。"
      ],
      "metadata": {
        "id": "UofuExLom1tM"
      }
    },
    {
      "cell_type": "code",
      "source": [
        "# 線形回帰\n",
        "from sklearn.linear_model import LinearRegression\n",
        "\n",
        "model = LinearRegression()\n",
        "model = model.fit(X_train, y_train[\"Grain_number\"]) # トレーニングデータの遺伝子型と籾数の形質値を使用\n",
        "equation = \"Grain number = \"\n",
        "for i, j in enumerate(model.coef_):\n",
        "    equation += \"SNP{}×{} + \".format(str(i+1), str(j))\n",
        "equation += str(model.intercept_)\n",
        "equation"
      ],
      "metadata": {
        "id": "SFlroDmUnVzo"
      },
      "execution_count": null,
      "outputs": []
    },
    {
      "cell_type": "markdown",
      "source": [
        "トレーニングデータの遺伝子型と形質値に基づいた予測モデルが出来ました。\n"
      ],
      "metadata": {
        "id": "B4PmawHaYfbc"
      }
    },
    {
      "cell_type": "markdown",
      "source": [
        "### **3. テストデータを用いて予測精度確認**\n",
        "\n",
        "では先ほど構築したモデルの精度を残りのデータ(テストデータ)を使用して確認します。\n",
        "\n",
        "<img src=\"https://github.com/slt666666/FAO_lecture/blob/main/FAO_2024/GP_16.png?raw=true\" alt=\"title\" height=\"300px\">\n",
        "\n",
        "テストデータの遺伝子型から、先ほどのモデルを用いて形質値を予測し、実際の計測した形質値と比較します。\n",
        "\n",
        "もし予測値と実測値が近ければ、予測が上手くいった、ということになります。"
      ],
      "metadata": {
        "id": "iMPZ2Cfln4hh"
      }
    },
    {
      "cell_type": "code",
      "source": [
        "import numpy as np\n",
        "y_preds = model.predict(X_test)\n",
        "plt.scatter(y_test[\"Grain_number\"], y_preds)\n",
        "plt.xlabel(\"Observed phenotype values\")\n",
        "plt.ylabel(\"Predicted phenotype values\")\n",
        "print(\"相関係数: {}\".format(np.corrcoef(y_test[\"Grain_number\"], y_preds)[0, 1]))"
      ],
      "metadata": {
        "id": "o5MHlRmzpzqu"
      },
      "execution_count": null,
      "outputs": []
    },
    {
      "cell_type": "markdown",
      "source": [
        "上の散布図は実測値(x軸)と予測値(y軸)の関係性を表しています。\n",
        "\n",
        "実測値が低い(籾数の少ない)系統は、予測値も低くなっていますし、\n",
        "\n",
        "実測値が高い系統は、予測値も概ね高くなっています。\n",
        "\n",
        "予測はそこそこ上手くいってそうです。\n",
        "\n",
        "予測精度を表す指標としては、この実測値と予測値の相関係数(r)を計算することが多いです。\n",
        "\n",
        "散布図の上に表示してありますが、今回は相関係数が0.81くらいでそれなりの結果だったという感じでしょうか。\n",
        "\n",
        "遺伝子型と形質値の関係はそれなりに捉えられていると評価できそうです。\n",
        "\n",
        "これで遺伝子型の情報を基に籾数を予測することが出来る様になりました。\n",
        "\n",
        "<br>\n",
        "\n",
        "細かい部分は省略しましたが、この流れがデータを準備して、ゲノミック予測モデルを構築し、精度を確認する流れになります。\n",
        "\n",
        "<img src=\"https://github.com/slt666666/FAO_lecture/blob/main/FAO_2024/GP_11.png?raw=true\" alt=\"title\" height=\"250px\">\n"
      ],
      "metadata": {
        "id": "HNajK2cDwL1L"
      }
    },
    {
      "cell_type": "markdown",
      "source": [
        "## **モデルの中身を見てみる**\n",
        "\n",
        "さて、今回は単純な重回帰分析を使用したので、すべてのSNPに効果が推定されている形になります。"
      ],
      "metadata": {
        "id": "6ypiinZb0Ywz"
      }
    },
    {
      "cell_type": "code",
      "source": [
        "equation"
      ],
      "metadata": {
        "id": "dmPH92q41-bQ"
      },
      "execution_count": null,
      "outputs": []
    },
    {
      "cell_type": "markdown",
      "source": [
        "数が多すぎて最後まで確認できないので、各SNPの効果をグラフにしてみると…"
      ],
      "metadata": {
        "id": "Vtc0XUju2Jpc"
      }
    },
    {
      "cell_type": "code",
      "source": [
        "plt.figure(figsize=(10, 4))\n",
        "plt.bar(x=range(len(model.coef_)), height=model.coef_)\n",
        "plt.show()"
      ],
      "metadata": {
        "id": "b9pSX0RQ2I19"
      },
      "execution_count": null,
      "outputs": []
    },
    {
      "cell_type": "markdown",
      "source": [
        "と、この様な形で、どのSNP(どのゲノム領域)にどのくらいの影響力があるのか確認できます。\n",
        "\n",
        "ただ見た感じどこの領域もポジティブな効果とネガティブな効果が連続していたりして何だか現実的な感じではない気がします。\n",
        "\n",
        "そもそも、全ゲノム領域の遺伝子型が形質に影響を与えているとは現実的には考えられず、原因遺伝子が位置する一部の領域の遺伝子型以外に効果があるというのは、おかしい状況です。\n",
        "\n",
        "<img src=\"https://github.com/CropEvol/lecture/blob/master/textbook_2022/images/GP_not_all_gene.png?raw=true\" alt=\"GP_not_all_gene\" height=\"350px\">\n",
        "\n",
        "この様な事態を考慮して、すべてのSNPではなく、一部の重要なSNPの遺伝子型のみを使用してモデルを構築する方法があります。\n",
        "\n",
        "使用するSNPを絞って(**変数選択**と呼ばれたりします)モデルを構築する方法としては、大まかに以下の様な方法があります。\n",
        "\n",
        "* ドメイン知識(生物学の知見等)等から、モデル構築に供与する変数を自分で選択する\n",
        "* モデル構築する際に変数選択も同時に行ってくれる手法を使う\n",
        "\n",
        "ドメイン知識(先行研究で機能が重要な遺伝子があればその遺伝子型、既知のQTLやGWASなどで検出された領域)に基づくやり方は、重要なゲノム領域をすべて拾えているか分からないので、あまり良い方法ではないかもしれません。\n",
        "\n",
        "そこで今回は変数選択を行ってくれる統計手法を試しに扱ってみます。\n",
        "\n",
        "### (参考)変数選択を伴う手法\n",
        "\n",
        "先ほどは重回帰分析を行いましたが、今回はElasticNetと呼ばれるモデルを使用してみます。\n",
        "\n",
        "細かい説明は省きますが、ElasticNetは線形モデルの中でも、使用する変数を絞ってモデルを作っていくことが出来る手法になります。\n",
        "\n",
        "これも重回帰分析同様、[scikit-learn](https://scikit-learn.org/stable/)ライブラリを使用して、簡単に構築できます。"
      ],
      "metadata": {
        "id": "hJPMTtN640jI"
      }
    },
    {
      "cell_type": "code",
      "source": [
        "# 線形回帰\n",
        "from sklearn.linear_model import ElasticNet\n",
        "\n",
        "model = ElasticNet(alpha=1.0, l1_ratio=0.5) # 使うモデルをElasticNetに\n",
        "model = model.fit(X_train, y_train[\"Grain_number\"]) # トレーニングデータの遺伝子型と籾数の形質値を使用\n",
        "equation = \"Grain number = \"\n",
        "for i, j in enumerate(model.coef_):\n",
        "    equation += \"SNP{}×{} + \".format(str(i+1), str(j))\n",
        "equation += str(model.intercept_)\n",
        "equation"
      ],
      "metadata": {
        "id": "Rur2jfdl9JIX"
      },
      "execution_count": null,
      "outputs": []
    },
    {
      "cell_type": "markdown",
      "source": [
        "殆どのSNPの効果が0になって、一部のSNPのみ効果を持っている予測式が出来たのが分かるかと思います。\n",
        "\n",
        "次に、この式の予測精度を見てみると、"
      ],
      "metadata": {
        "id": "SXx1BSZ99Rgl"
      }
    },
    {
      "cell_type": "code",
      "source": [
        "import numpy as np\n",
        "y_preds = model.predict(X_test)\n",
        "plt.scatter(y_test[\"Grain_number\"], y_preds)\n",
        "plt.xlabel(\"Observed phenotype values\")\n",
        "plt.ylabel(\"Predicted phenotype values\")\n",
        "print(\"相関係数: {}\".format(np.corrcoef(y_test[\"Grain_number\"], y_preds)[0, 1]))"
      ],
      "metadata": {
        "id": "XwkvAHVo9ZtZ"
      },
      "execution_count": null,
      "outputs": []
    },
    {
      "cell_type": "markdown",
      "source": [
        "相関係数が0.84ということで、先ほどより僅かに予測精度が高い予測モデルが出来たことになります。\n",
        "\n",
        "最後に各SNPの効果を見てみると…"
      ],
      "metadata": {
        "id": "YdA4sOSl9eZL"
      }
    },
    {
      "cell_type": "code",
      "source": [
        "plt.figure(figsize=(10, 4))\n",
        "plt.bar(x=range(len(model.coef_)), height=model.coef_)\n",
        "plt.show()"
      ],
      "metadata": {
        "id": "rnmHPfBZ9sjl"
      },
      "execution_count": null,
      "outputs": []
    },
    {
      "cell_type": "markdown",
      "source": [
        "今度は分かりやすい結果になりました、強い効果の領域がどこなのかはっきりと分かります。\n",
        "\n",
        "当然、与えられたデータに基づいて算出されたSNPの効果なので、これが正しいかどうかは厳密には言えません。\n",
        "\n",
        "重要なポイントは、これだけの数のSNPで十分にそれなりの予測精度のモデルが構築できる、というポイントです。\n",
        "\n",
        "恐らく、今回のNAM集団における\"籾数\"という形質をコントロールしているゲノム領域はそれほど多くない、ということが推察できます。"
      ],
      "metadata": {
        "id": "EqUFxzfc9yjL"
      }
    },
    {
      "cell_type": "markdown",
      "source": [
        "# ゲノミック予測モデルの活用\n",
        "\n",
        "それなりに良い精度のゲノミック予測モデルが出来たので、育種にどう活用できるか試してみます。"
      ],
      "metadata": {
        "id": "WAI2X2qTBlre"
      }
    },
    {
      "cell_type": "markdown",
      "source": [
        "## **形質を向上させるにはどの様な遺伝子型が良いか**\n",
        "\n",
        "ゲノミック予測モデルは遺伝子型から形質値を予測できるので、予測モデルに基づいて、形質にとって理想的な遺伝子型を考えることが可能です。\n",
        "\n",
        "<img src=\"https://github.com/slt666666/FAO_lecture/blob/main/FAO_2024/GP_12.png?raw=true\" alt=\"title\" height=\"120px\">\n",
        "\n",
        "今回は籾数を向上させるような遺伝子型を考えてみましょう。"
      ],
      "metadata": {
        "id": "Z6yyI5M3CAQ3"
      }
    },
    {
      "cell_type": "markdown",
      "source": [
        "### 自分で作った遺伝子型の形質値を予測する\n",
        "\n",
        "自分でよさそうな遺伝子型の系統を考えて、その遺伝子型がどのくらいの形質値になるか予測してみます。\n",
        "\n",
        "例えば、1番染色体と3番染色体の一部の領域が別の系統と入れ替わった場合、形質値はどうなるか。\n",
        "\n",
        "<img src=\"https://github.com/slt666666/FAO_lecture/blob/main/FAO_2024/GP_13.png?raw=true\" alt=\"title\" height=\"360px\">\n",
        "\n",
        "この様な情報も、予測モデルに通せば簡単に予測できます。\n",
        "\n",
        "下のコードを動かすと、計算してくれます。"
      ],
      "metadata": {
        "id": "efOCS7T2MG8F"
      }
    },
    {
      "cell_type": "code",
      "source": [
        "from modules import predict_customized_genotype\n",
        "regions = [['chr01', 10000000, 20000000], ['chr03', 10000000, 20000000]]\n",
        "predict_customized_genotype(genotype, regions, model)"
      ],
      "metadata": {
        "id": "8TVxL8rMMLoJ"
      },
      "execution_count": null,
      "outputs": []
    },
    {
      "cell_type": "markdown",
      "source": [
        "ひとめぼれ(Cultivar A)が114粒位なのに対し、新しく考えた遺伝子型は120粒と、少し形質が向上するようです。"
      ],
      "metadata": {
        "id": "7i5ApwRjBnRr"
      }
    },
    {
      "cell_type": "markdown",
      "source": [
        "この様な形で、どんな遺伝子型にすると籾数を向上させることが出来るかが分かるようになりました。\n",
        "\n",
        "<img src=\"https://github.com/slt666666/FAO_lecture/blob/main/FAO_2024/GP_20.png?raw=true\" alt=\"title\" height=\"360px\">\n",
        "\n",
        "### **Play with genomic prediction**\n",
        "\n",
        "ということで、色々な遺伝子型を自分で試して、どこまで籾数を伸ばしていくことが出来るかやってみましょう。\n",
        "\n",
        "下のコードを書き換えて、自分独自の遺伝子型を作成し、籾数を予測してみてください。\n",
        "\n",
        "2行目の[　]の中身を書き換えたり、書き加えることで、ひとめぼれから別の系統に遺伝子型を変える領域を指定できます。\n",
        "\n",
        "`regions = [['chr01', 0, 20000000], ['chr03', 10000000, 20000000]]`.\n",
        "\n",
        "2つ以上の領域を指定する場合は↓の様になります。\n",
        "\n",
        "`regions = [ ['chrXX', YY, ZZZ], ['chrXX', YY, ZZZ], ['chrXX', YY, ZZZ], ['chrXX', YY, ZZZ] ]`\n",
        "\n",
        "例えば、↓の様に2行目を変えると、\n",
        "\n",
        " `regions = [['chr01', 12000000, 20000000], ['chr05', 0, 5000000], ['chr12', 10000000, 15000000]]`\n",
        "\n",
        "下の3つの領域が別の系統に変わった場合を計算してくれます。\n",
        "* chr01...12 Mbp ~ 20 Mbp\n",
        "* chr05...0 ~ 5 Mbp\n",
        "* chr12...10 Mbp ~ 15 Mbp\n",
        "\n",
        "色々試してみてください。\n",
        "\n",
        "```\n",
        "よくある書き間違い:\n",
        "※ Forget  ' ' of 'chr01' and  Forget 0 of 'chr01'\n",
        "※ Forget comma\n",
        "※ The number of [ ]\n",
        "```\n",
        "\n",
        "※chromosome length is around 20000000bp ~ 40000000bp.\n"
      ],
      "metadata": {
        "id": "Zp7LA-q_crpf"
      }
    },
    {
      "cell_type": "code",
      "source": [
        "from modules import predict_customized_genotype\n",
        "regions = [['chr01', 10000000, 20000000], ['chr03', 10000000, 20000000]]\n",
        "predict_customized_genotype(genotype, regions, model)"
      ],
      "metadata": {
        "id": "XWxT4IK0c9Zz"
      },
      "execution_count": null,
      "outputs": []
    },
    {
      "cell_type": "markdown",
      "source": [
        "## ゲノミック選抜: 良い次世代を作るために最適な親系統の組み合わせを選抜する\n",
        "\n",
        "育種系統の遺伝子型情報さえあれば、F2世代などの遺伝子型をシミュレーションすることが出来ます。\n",
        "\n",
        "シミュレートした遺伝子型から形質値を予測することで、どの組み合わせが良い親系統なのか考えることが出来ます。\n",
        "\n",
        "<img src=\"https://github.com/slt666666/FAO_lecture/blob/main/FAO_2024/GP_17.png?raw=true\" alt=\"title\" height=\"400px\">\n",
        "\n",
        "今回は例として、NAM集団の中でどの系統を掛け合わせたら良いF2集団が出来るのかを確認してみます。\n",
        "\n",
        "下のコードは、選んだ2系統からF2集団を作成した場合、どの様な形質の分布を示すか計算してくれるコードです。\n",
        "\n",
        "\"NAM_001\" と \"NAM_002\"の部分を自分の好きな系統(NAM_001~747の範囲で)色々変えて試してみてください。"
      ],
      "metadata": {
        "id": "6q2CgMaP03QX"
      }
    },
    {
      "cell_type": "code",
      "source": [
        "from modules import predict_progeny_phenotype\n",
        "predict_progeny_phenotype(\"NAM_100\", \"NAM_002\", 100, phenotype, genotype, model)"
      ],
      "metadata": {
        "id": "z5tiu9uYgrUF"
      },
      "execution_count": null,
      "outputs": []
    },
    {
      "cell_type": "markdown",
      "source": [
        "この様に、良い次世代を作ることが出来る親の組み合わせを試すことが出来ます。"
      ],
      "metadata": {
        "id": "ZDk-AaFfgrv8"
      }
    },
    {
      "cell_type": "markdown",
      "source": [
        "## 参考\n",
        "\n",
        "今回のモデル活用の例はいずれも「何度も繰り返して良さそうな遺伝子型/親組み合わせを探す」というものでした。\n",
        "\n",
        "ゲノミック選抜の「育種価が高くなる組み合わせを選抜する」というやり方に近いですね。\n",
        "\n",
        "しかし、先ほどSNP効果の可視化を行った際、どの領域が大きな効果を持っているかが分かりました。\n",
        "\n",
        "そこで、その領域だけ別系統の遺伝子型を導入すれば形質が向上することは明白です。"
      ],
      "metadata": {
        "id": "YfnP5leuE1b2"
      }
    },
    {
      "cell_type": "code",
      "source": [
        "# 小さな領域で形質を向上させる遺伝子型\n",
        "from modules import predict_customized_genotype\n",
        "regions = [['chr07', 28000000, 28300000]]\n",
        "predict_customized_genotype(genotype, regions, model)"
      ],
      "metadata": {
        "id": "XA54Ki06Fwtw"
      },
      "execution_count": null,
      "outputs": []
    },
    {
      "cell_type": "markdown",
      "source": [
        "各ゲノム領域の効果を基にすれば、最適な遺伝子も容易に考えられ、最適な親の組み合わせも、ポジティブな効果の領域が出来るだけ多くなる様な組み合わせを考えることでより簡単に高い形質を目指すことが出来ます。\n",
        "\n",
        "特に、複数の形質を最適化する際には非常に有用な情報となります。\n",
        "\n",
        "そのため、ゲノミック選抜ではモデルの解釈性というのはブラックボックスでも構わないというのが、従来の考え方でしたが、\n",
        "\n",
        "特に交配や変異の導入が容易な植物に関しては、モデルの解釈性が高いことは非常に有益だと考えています。"
      ],
      "metadata": {
        "id": "nwoU9h5aFvsK"
      }
    },
    {
      "cell_type": "markdown",
      "metadata": {
        "id": "PFTQIMDGuYAT"
      },
      "source": [
        "---\n",
        "## まとめ\n",
        "\n",
        "このノートブックでは、実際のデータを用いて**ゲノミック予測**を試しました。\n",
        "\n",
        "ゲノミック予測モデルを用いることで、遺伝子型情報から形質値を予測することができます。\n",
        "\n",
        "これにより、形質に最適な遺伝子型や親系統の最適な組み合わせを見つけることができます。\n",
        "\n",
        "遺伝的多様性の高い育種集団(RIL, NAM集団)を作出する計画がある場合、ゲノミック予測に基づく育種アプローチは、高収量・高品質の系統作出を実現するための有用なアプローチの一つだと言えます。\n"
      ]
    },
    {
      "cell_type": "code",
      "source": [],
      "metadata": {
        "id": "qZnCziD1np5v"
      },
      "execution_count": null,
      "outputs": []
    }
  ]
}